{
 "cells": [
  {
   "cell_type": "markdown",
   "id": "44bef427-a5be-48f7-9249-38120835d758",
   "metadata": {},
   "source": [
    "Q1. You are writing code for a company. The requirement of the company is that you create a python\n",
    "function that will check whether the password entered by the user is correct or not. The function should\n",
    "take the password as input and return the string “Valid Password” if the entered password follows the\n",
    "below-given password guidelines else it should return “Invalid Password”.\n",
    "Note: 1. The Password should contain at least two uppercase letters and at least two lowercase letters.\n",
    "2. The Password should contain at least a number and three special characters.\n",
    "3. The length of the password should be 10 characters long."
   ]
  },
  {
   "cell_type": "code",
   "execution_count": 1,
   "id": "51b7f9ea-5534-43e2-9d03-8e31a900eb00",
   "metadata": {},
   "outputs": [],
   "source": [
    "def check_password(password):\n",
    "    # Check if the length of the password is 10 characters\n",
    "    if len(password) != 10:\n",
    "        return \"Invalid Password\"\n",
    "    \n",
    "    # Initialize variables to count the number of uppercase letters, lowercase letters, numbers, and special characters\n",
    "    uppercase_count = 0\n",
    "    lowercase_count = 0\n",
    "    number_count = 0\n",
    "    special_count = 0\n",
    "    \n",
    "    # Iterate through each character in the password and count the number of each type of character\n",
    "    for char in password:\n",
    "        if char.isupper():\n",
    "            uppercase_count += 1\n",
    "        elif char.islower():\n",
    "            lowercase_count += 1\n",
    "        elif char.isdigit():\n",
    "            number_count += 1\n",
    "        elif char in \"!@#$%^&*(),.?\\\":{}|<>\":\n",
    "            special_count += 1\n",
    "    \n",
    "    # Check if the password has at least 2 uppercase letters and 2 lowercase letters\n",
    "    if uppercase_count < 2 or lowercase_count < 2:\n",
    "        return \"Invalid Password\"\n",
    "    \n",
    "    # Check if the password has at least 1 number and 3 special characters\n",
    "    if number_count < 1 or special_count < 3:\n",
    "        return \"Invalid Password\"\n",
    "    \n",
    "    # If all the above conditions are met, the password is valid\n",
    "    return \"Valid Password\"\n"
   ]
  },
  {
   "cell_type": "markdown",
   "id": "c59add77-9c1d-4b78-9acd-db388b745ab9",
   "metadata": {},
   "source": [
    "Q2. Solve the below-given questions using at least one of the following:\n",
    "1. Lambda functioJ\n",
    "2. Filter functioJ\n",
    "3. Zap functioJ\n",
    "4. List ComprehensioI\n",
    " Check if the string starts with a particular letterY\n",
    " Check if the string is numericY\n",
    " Sort a list of tuples having fruit names and their quantity. [(\"mango\",99),(\"orange\",80), (\"grapes\", 1000)-\n",
    " Find the squares of numbers from 1 to 10Y\n",
    " Find the cube root of numbers from 1 to 10Y\n",
    " Check if a given number is evenY\n",
    " Filter odd numbers from the given list.\n",
    "[1,2,3,4,5,6,7,8,9,10-\n",
    " Sort a list of integers into positive and negative integers lists.\n",
    "[1,2,3,4,5,6,-1,-2,-3,-4,-5,0]"
   ]
  },
  {
   "cell_type": "code",
   "execution_count": 2,
   "id": "8c359ae9-43b2-4adf-825b-8c3f4d5d0991",
   "metadata": {},
   "outputs": [
    {
     "name": "stdout",
     "output_type": "stream",
     "text": [
      "['apple']\n",
      "['banana']\n"
     ]
    }
   ],
   "source": [
    "# Check if the string starts with a particular letter:\n",
    "string_list = [\"apple\", \"banana\", \"cherry\", \"date\"]\n",
    "\n",
    "# Using lambda and filter\n",
    "letter = 'a'\n",
    "filtered_list = list(filter(lambda x: x.startswith(letter), string_list))\n",
    "print(filtered_list)\n",
    "\n",
    "# Using list comprehension\n",
    "letter = 'b'\n",
    "filtered_list = [string for string in string_list if string.startswith(letter)]\n",
    "print(filtered_list)\n"
   ]
  },
  {
   "cell_type": "code",
   "execution_count": 3,
   "id": "59a81cc0-c11c-47d0-ac88-0b1dd245e038",
   "metadata": {},
   "outputs": [
    {
     "name": "stdout",
     "output_type": "stream",
     "text": [
      "['123', '78']\n",
      "['123', '78']\n"
     ]
    }
   ],
   "source": [
    "# Check if the string is numeric:\n",
    "string_list = [\"123\", \"abc\", \"4.56\", \"78\"]\n",
    "\n",
    "# Using lambda and filter\n",
    "filtered_list = list(filter(lambda x: x.isnumeric(), string_list))\n",
    "print(filtered_list)\n",
    "\n",
    "# Using list comprehension\n",
    "filtered_list = [string for string in string_list if string.isnumeric()]\n",
    "print(filtered_list)\n"
   ]
  },
  {
   "cell_type": "code",
   "execution_count": 4,
   "id": "14d1c0a1-6a41-4ed6-8953-76ea604a59c3",
   "metadata": {},
   "outputs": [
    {
     "name": "stdout",
     "output_type": "stream",
     "text": [
      "[('orange', 80), ('mango', 99), ('grapes', 1000)]\n",
      "[('orange', 80), ('mango', 99), ('grapes', 1000)]\n"
     ]
    }
   ],
   "source": [
    "# Sort a list of tuples having fruit names and their quantity:\n",
    "fruit_list = [(\"mango\",99),(\"orange\",80), (\"grapes\", 1000)]\n",
    "\n",
    "# Using lambda and sort\n",
    "sorted_list = sorted(fruit_list, key=lambda x: x[1])\n",
    "print(sorted_list)\n",
    "\n",
    "# Using list comprehension\n",
    "sorted_list = [(fruit, quantity) for quantity, fruit in sorted([(quantity, fruit) for fruit, quantity in fruit_list])]\n",
    "print(sorted_list)\n"
   ]
  },
  {
   "cell_type": "code",
   "execution_count": 5,
   "id": "15ebc88b-1971-4c29-b8eb-cc6ee946c5e7",
   "metadata": {},
   "outputs": [
    {
     "name": "stdout",
     "output_type": "stream",
     "text": [
      "[1, 4, 9, 16, 25, 36, 49, 64, 81, 100]\n",
      "[1, 4, 9, 16, 25, 36, 49, 64, 81, 100]\n"
     ]
    }
   ],
   "source": [
    "# Find the squares of numbers from 1 to 10:\n",
    "# Using lambda and map\n",
    "squared_list = list(map(lambda x: x**2, range(1,11)))\n",
    "print(squared_list)\n",
    "\n",
    "# Using list comprehension\n",
    "squared_list = [x**2 for x in range(1,11)]\n",
    "print(squared_list)\n"
   ]
  },
  {
   "cell_type": "code",
   "execution_count": 6,
   "id": "c44d55c0-c109-4413-ac56-fe0597a92bda",
   "metadata": {},
   "outputs": [
    {
     "name": "stdout",
     "output_type": "stream",
     "text": [
      "[1.0, 1.2599210498948732, 1.4422495703074083, 1.5874010519681994, 1.7099759466766968, 1.8171205928321397, 1.912931182772389, 2.0, 2.080083823051904, 2.154434690031884]\n",
      "[1.0, 1.2599210498948732, 1.4422495703074083, 1.5874010519681994, 1.7099759466766968, 1.8171205928321397, 1.912931182772389, 2.0, 2.080083823051904, 2.154434690031884]\n"
     ]
    }
   ],
   "source": [
    "# Find the cube root of numbers from 1 to 10:\n",
    "import math\n",
    "\n",
    "# Using lambda and map\n",
    "cuberoot_list = list(map(lambda x: math.pow(x, 1/3), range(1,11)))\n",
    "print(cuberoot_list)\n",
    "\n",
    "# Using list comprehension\n",
    "cuberoot_list = [math.pow(x, 1/3) for x in range(1,11)]\n",
    "print(cuberoot_list)\n"
   ]
  },
  {
   "cell_type": "code",
   "execution_count": 7,
   "id": "f97703ca-111b-4dbc-8e88-783edd8355b6",
   "metadata": {},
   "outputs": [
    {
     "name": "stdout",
     "output_type": "stream",
     "text": [
      "7 is odd\n",
      "7 is odd\n"
     ]
    }
   ],
   "source": [
    "# Check if a given number is even:\n",
    "num = 7\n",
    "\n",
    "# Using lambda and filter\n",
    "even_check = list(filter(lambda x: x%2 == 0, [num]))\n",
    "if even_check:\n",
    "    print(f\"{num} is even\")\n",
    "else:\n",
    "    print(f\"{num} is odd\")\n",
    "\n",
    "# Using list comprehension\n",
    "even_check = \"even\" if num%2 == 0 else \"odd\"\n",
    "print(f\"{num} is {even_check}\")\n"
   ]
  },
  {
   "cell_type": "code",
   "execution_count": 8,
   "id": "7d6525da-eeeb-4fa2-8c62-8ff9ffa9e6a6",
   "metadata": {},
   "outputs": [
    {
     "name": "stdout",
     "output_type": "stream",
     "text": [
      "[1, 3, 5, 7, 9]\n",
      "[1, 3, 5, 7, 9]\n"
     ]
    }
   ],
   "source": [
    "# Filter odd numbers from the given list [1,2,3,4,5,6,7,8,9,10]:\n",
    "num_list = [1,2,3,4,5,6,7,8,9,10]\n",
    "\n",
    "# Using lambda and filter\n",
    "odd_list = list(filter(lambda x: x%2 != 0, num_list))\n",
    "print(odd_list)\n",
    "\n",
    "# Using list comprehension\n",
    "odd_list = [num for num in num_list if num%2 != 0]\n",
    "print(odd_list)\n"
   ]
  },
  {
   "cell_type": "code",
   "execution_count": 9,
   "id": "93d9aa6b-b792-42ef-9d5d-822f6ff9b0f6",
   "metadata": {},
   "outputs": [
    {
     "name": "stdout",
     "output_type": "stream",
     "text": [
      "Positive List:  [1, 2, 3, 4, 5, 6, 0]\n",
      "Negative List:  [-1, -2, -3, -4, -5]\n",
      "Positive List:  [1, 2, 3, 4, 5, 6, 0]\n",
      "Negative List:  [-1, -2, -3, -4, -5]\n"
     ]
    }
   ],
   "source": [
    "# Sort a list of integers into positive and negative integers:\n",
    "num_list = [1,2,3,4,5,6,-1,-2,-3,-4,-5,0]\n",
    "\n",
    "# Using lambda and filter\n",
    "positive_list = list(filter(lambda x: x>=0, num_list))\n",
    "negative_list = list(filter(lambda x: x<0, num_list))\n",
    "print(\"Positive List: \", positive_list)\n",
    "print(\"Negative List: \", negative_list)\n",
    "\n",
    "# Using list comprehension\n",
    "positive_list = [num for num in num_list if num>=0]\n",
    "negative_list = [num for num in num_list if num<0]\n",
    "print(\"Positive List: \", positive_list)\n",
    "print(\"Negative List: \", negative_list)\n"
   ]
  },
  {
   "cell_type": "code",
   "execution_count": null,
   "id": "66e30291-4b6b-47f6-b8e7-6af8fd4b6784",
   "metadata": {},
   "outputs": [],
   "source": []
  }
 ],
 "metadata": {
  "kernelspec": {
   "display_name": "Python 3 (ipykernel)",
   "language": "python",
   "name": "python3"
  },
  "language_info": {
   "codemirror_mode": {
    "name": "ipython",
    "version": 3
   },
   "file_extension": ".py",
   "mimetype": "text/x-python",
   "name": "python",
   "nbconvert_exporter": "python",
   "pygments_lexer": "ipython3",
   "version": "3.10.8"
  }
 },
 "nbformat": 4,
 "nbformat_minor": 5
}
